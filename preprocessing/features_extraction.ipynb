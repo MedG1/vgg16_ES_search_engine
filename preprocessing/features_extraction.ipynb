{
 "cells": [
  {
   "cell_type": "code",
   "execution_count": 1,
   "metadata": {},
   "outputs": [],
   "source": [
    "from tensorflow.keras.preprocessing import image\n",
    "from tensorflow.keras.applications.vgg16 import VGG16, preprocess_input\n",
    "from tensorflow.keras.models import Model\n",
    "import numpy as np\n",
    "import matplotlib.pyplot as plt\n",
    "import imutils\n",
    "from imutils import paths\n",
    "from PIL import Image\n",
    "from feature_extractor import FeatureExtractor\n",
    "from pathlib import Path\n",
    "import cv2"
   ]
  },
  {
   "cell_type": "code",
   "execution_count": 7,
   "metadata": {},
   "outputs": [
    {
     "name": "stdout",
     "output_type": "stream",
     "text": [
      "9146\n",
      "C:/Users/med_g/OneDrive/Desktop/SUPCOM/DB Indexing & geospacial applications/elasticsearch/bdimage/idb/Objects/accordion/image_0001.jpg\n",
      "C:/Users/med_g/OneDrive/Desktop/SUPCOM/DB Indexing & geospacial applications/elasticsearch/bdimage/idb/Objects/accordion/image_0002.jpg\n",
      "C:/Users/med_g/OneDrive/Desktop/SUPCOM/DB Indexing & geospacial applications/elasticsearch/bdimage/idb/Objects/accordion/image_0003.jpg\n",
      "C:/Users/med_g/OneDrive/Desktop/SUPCOM/DB Indexing & geospacial applications/elasticsearch/bdimage/idb/Objects/accordion/image_0004.jpg\n",
      "C:/Users/med_g/OneDrive/Desktop/SUPCOM/DB Indexing & geospacial applications/elasticsearch/bdimage/idb/Objects/accordion/image_0005.jpg\n",
      "C:/Users/med_g/OneDrive/Desktop/SUPCOM/DB Indexing & geospacial applications/elasticsearch/bdimage/idb/Objects/accordion/image_0006.jpg\n",
      "C:/Users/med_g/OneDrive/Desktop/SUPCOM/DB Indexing & geospacial applications/elasticsearch/bdimage/idb/Objects/accordion/image_0007.jpg\n",
      "C:/Users/med_g/OneDrive/Desktop/SUPCOM/DB Indexing & geospacial applications/elasticsearch/bdimage/idb/Objects/accordion/image_0008.jpg\n",
      "C:/Users/med_g/OneDrive/Desktop/SUPCOM/DB Indexing & geospacial applications/elasticsearch/bdimage/idb/Objects/accordion/image_0009.jpg\n",
      "C:/Users/med_g/OneDrive/Desktop/SUPCOM/DB Indexing & geospacial applications/elasticsearch/bdimage/idb/Objects/accordion/image_0010.jpg\n",
      "C:/Users/med_g/OneDrive/Desktop/SUPCOM/DB Indexing & geospacial applications/elasticsearch/bdimage/idb/Objects/accordion/image_0011.jpg\n",
      "C:/Users/med_g/OneDrive/Desktop/SUPCOM/DB Indexing & geospacial applications/elasticsearch/bdimage/idb/Objects/accordion/image_0012.jpg\n",
      "C:/Users/med_g/OneDrive/Desktop/SUPCOM/DB Indexing & geospacial applications/elasticsearch/bdimage/idb/Objects/accordion/image_0013.jpg\n",
      "C:/Users/med_g/OneDrive/Desktop/SUPCOM/DB Indexing & geospacial applications/elasticsearch/bdimage/idb/Objects/accordion/image_0014.jpg\n",
      "C:/Users/med_g/OneDrive/Desktop/SUPCOM/DB Indexing & geospacial applications/elasticsearch/bdimage/idb/Objects/accordion/image_0015.jpg\n",
      "C:/Users/med_g/OneDrive/Desktop/SUPCOM/DB Indexing & geospacial applications/elasticsearch/bdimage/idb/Objects/accordion/image_0016.jpg\n",
      "C:/Users/med_g/OneDrive/Desktop/SUPCOM/DB Indexing & geospacial applications/elasticsearch/bdimage/idb/Objects/accordion/image_0017.jpg\n",
      "C:/Users/med_g/OneDrive/Desktop/SUPCOM/DB Indexing & geospacial applications/elasticsearch/bdimage/idb/Objects/accordion/image_0018.jpg\n",
      "C:/Users/med_g/OneDrive/Desktop/SUPCOM/DB Indexing & geospacial applications/elasticsearch/bdimage/idb/Objects/accordion/image_0019.jpg\n",
      "C:/Users/med_g/OneDrive/Desktop/SUPCOM/DB Indexing & geospacial applications/elasticsearch/bdimage/idb/Objects/accordion/image_0020.jpg\n",
      "C:/Users/med_g/OneDrive/Desktop/SUPCOM/DB Indexing & geospacial applications/elasticsearch/bdimage/idb/Objects/accordion/image_0021.jpg\n",
      "C:/Users/med_g/OneDrive/Desktop/SUPCOM/DB Indexing & geospacial applications/elasticsearch/bdimage/idb/Objects/accordion/image_0022.jpg\n",
      "C:/Users/med_g/OneDrive/Desktop/SUPCOM/DB Indexing & geospacial applications/elasticsearch/bdimage/idb/Objects/accordion/image_0023.jpg\n",
      "C:/Users/med_g/OneDrive/Desktop/SUPCOM/DB Indexing & geospacial applications/elasticsearch/bdimage/idb/Objects/accordion/image_0024.jpg\n",
      "C:/Users/med_g/OneDrive/Desktop/SUPCOM/DB Indexing & geospacial applications/elasticsearch/bdimage/idb/Objects/accordion/image_0025.jpg\n",
      "C:/Users/med_g/OneDrive/Desktop/SUPCOM/DB Indexing & geospacial applications/elasticsearch/bdimage/idb/Objects/accordion/image_0026.jpg\n",
      "C:/Users/med_g/OneDrive/Desktop/SUPCOM/DB Indexing & geospacial applications/elasticsearch/bdimage/idb/Objects/accordion/image_0027.jpg\n",
      "C:/Users/med_g/OneDrive/Desktop/SUPCOM/DB Indexing & geospacial applications/elasticsearch/bdimage/idb/Objects/accordion/image_0028.jpg\n",
      "C:/Users/med_g/OneDrive/Desktop/SUPCOM/DB Indexing & geospacial applications/elasticsearch/bdimage/idb/Objects/accordion/image_0029.jpg\n",
      "C:/Users/med_g/OneDrive/Desktop/SUPCOM/DB Indexing & geospacial applications/elasticsearch/bdimage/idb/Objects/accordion/image_0030.jpg\n",
      "C:/Users/med_g/OneDrive/Desktop/SUPCOM/DB Indexing & geospacial applications/elasticsearch/bdimage/idb/Objects/accordion/image_0031.jpg\n",
      "C:/Users/med_g/OneDrive/Desktop/SUPCOM/DB Indexing & geospacial applications/elasticsearch/bdimage/idb/Objects/accordion/image_0032.jpg\n",
      "C:/Users/med_g/OneDrive/Desktop/SUPCOM/DB Indexing & geospacial applications/elasticsearch/bdimage/idb/Objects/accordion/image_0033.jpg\n",
      "C:/Users/med_g/OneDrive/Desktop/SUPCOM/DB Indexing & geospacial applications/elasticsearch/bdimage/idb/Objects/accordion/image_0034.jpg\n",
      "C:/Users/med_g/OneDrive/Desktop/SUPCOM/DB Indexing & geospacial applications/elasticsearch/bdimage/idb/Objects/accordion/image_0035.jpg\n",
      "C:/Users/med_g/OneDrive/Desktop/SUPCOM/DB Indexing & geospacial applications/elasticsearch/bdimage/idb/Objects/accordion/image_0036.jpg\n",
      "C:/Users/med_g/OneDrive/Desktop/SUPCOM/DB Indexing & geospacial applications/elasticsearch/bdimage/idb/Objects/accordion/image_0037.jpg\n",
      "C:/Users/med_g/OneDrive/Desktop/SUPCOM/DB Indexing & geospacial applications/elasticsearch/bdimage/idb/Objects/accordion/image_0038.jpg\n",
      "C:/Users/med_g/OneDrive/Desktop/SUPCOM/DB Indexing & geospacial applications/elasticsearch/bdimage/idb/Objects/accordion/image_0039.jpg\n",
      "C:/Users/med_g/OneDrive/Desktop/SUPCOM/DB Indexing & geospacial applications/elasticsearch/bdimage/idb/Objects/accordion/image_0040.jpg\n",
      "C:/Users/med_g/OneDrive/Desktop/SUPCOM/DB Indexing & geospacial applications/elasticsearch/bdimage/idb/Objects/accordion/image_0041.jpg\n",
      "C:/Users/med_g/OneDrive/Desktop/SUPCOM/DB Indexing & geospacial applications/elasticsearch/bdimage/idb/Objects/accordion/image_0042.jpg\n",
      "C:/Users/med_g/OneDrive/Desktop/SUPCOM/DB Indexing & geospacial applications/elasticsearch/bdimage/idb/Objects/accordion/image_0043.jpg\n",
      "C:/Users/med_g/OneDrive/Desktop/SUPCOM/DB Indexing & geospacial applications/elasticsearch/bdimage/idb/Objects/accordion/image_0044.jpg\n",
      "C:/Users/med_g/OneDrive/Desktop/SUPCOM/DB Indexing & geospacial applications/elasticsearch/bdimage/idb/Objects/accordion/image_0045.jpg\n",
      "C:/Users/med_g/OneDrive/Desktop/SUPCOM/DB Indexing & geospacial applications/elasticsearch/bdimage/idb/Objects/accordion/image_0046.jpg\n",
      "C:/Users/med_g/OneDrive/Desktop/SUPCOM/DB Indexing & geospacial applications/elasticsearch/bdimage/idb/Objects/accordion/image_0047.jpg\n",
      "C:/Users/med_g/OneDrive/Desktop/SUPCOM/DB Indexing & geospacial applications/elasticsearch/bdimage/idb/Objects/accordion/image_0048.jpg\n",
      "C:/Users/med_g/OneDrive/Desktop/SUPCOM/DB Indexing & geospacial applications/elasticsearch/bdimage/idb/Objects/accordion/image_0049.jpg\n",
      "C:/Users/med_g/OneDrive/Desktop/SUPCOM/DB Indexing & geospacial applications/elasticsearch/bdimage/idb/Objects/accordion/image_0050.jpg\n",
      "C:/Users/med_g/OneDrive/Desktop/SUPCOM/DB Indexing & geospacial applications/elasticsearch/bdimage/idb/Objects/accordion/image_0051.jpg\n",
      "C:/Users/med_g/OneDrive/Desktop/SUPCOM/DB Indexing & geospacial applications/elasticsearch/bdimage/idb/Objects/accordion/image_0052.jpg\n",
      "C:/Users/med_g/OneDrive/Desktop/SUPCOM/DB Indexing & geospacial applications/elasticsearch/bdimage/idb/Objects/accordion/image_0053.jpg\n",
      "C:/Users/med_g/OneDrive/Desktop/SUPCOM/DB Indexing & geospacial applications/elasticsearch/bdimage/idb/Objects/accordion/image_0054.jpg\n",
      "C:/Users/med_g/OneDrive/Desktop/SUPCOM/DB Indexing & geospacial applications/elasticsearch/bdimage/idb/Objects/accordion/image_0055.jpg\n",
      "C:/Users/med_g/OneDrive/Desktop/SUPCOM/DB Indexing & geospacial applications/elasticsearch/bdimage/idb/Objects/airplanes/image_0001.jpg\n",
      "C:/Users/med_g/OneDrive/Desktop/SUPCOM/DB Indexing & geospacial applications/elasticsearch/bdimage/idb/Objects/airplanes/image_0002.jpg\n",
      "C:/Users/med_g/OneDrive/Desktop/SUPCOM/DB Indexing & geospacial applications/elasticsearch/bdimage/idb/Objects/airplanes/image_0003.jpg\n",
      "C:/Users/med_g/OneDrive/Desktop/SUPCOM/DB Indexing & geospacial applications/elasticsearch/bdimage/idb/Objects/airplanes/image_0003_bis.jpg\n",
      "C:/Users/med_g/OneDrive/Desktop/SUPCOM/DB Indexing & geospacial applications/elasticsearch/bdimage/idb/Objects/airplanes/image_0004.jpg\n"
     ]
    }
   ],
   "source": [
    "import os\n",
    "\n",
    "root = \"C:/Users/med_g/OneDrive/Desktop/SUPCOM/DB Indexing & geospacial applications/elasticsearch/bdimage/idb/Objects\"\n",
    "tree = list(os.walk(root))\n",
    "folders = tree[1:]\n",
    "imgPaths = []\n",
    "for sub in folders:\n",
    "    root = sub[0].replace(\"\\\\\", \"/\")\n",
    "    for img in sub[2]:\n",
    "        imgPaths.append(root + '/' + img)\n",
    "\n",
    "print(len(imgPaths))\n",
    "for path in imgPaths[:60]:\n",
    "    print(path)\n"
   ]
  },
  {
   "cell_type": "code",
   "execution_count": 8,
   "metadata": {},
   "outputs": [],
   "source": [
    "import pickle as pk\n",
    "pk.dump(imgPaths, open(outputDestination + \"/imgPaths.pkl\",\"wb\"))"
   ]
  },
  {
   "cell_type": "code",
   "execution_count": 24,
   "metadata": {},
   "outputs": [],
   "source": [
    "fe = FeatureExtractor()"
   ]
  },
  {
   "cell_type": "code",
   "execution_count": 25,
   "metadata": {},
   "outputs": [],
   "source": [
    "import csv\n",
    "from contextlib import contextmanager\n",
    "import sys, os\n",
    "\n",
    "@contextmanager\n",
    "def suppress_stdout():\n",
    "    with open(os.devnull, \"w\") as devnull:\n",
    "        old_stdout = sys.stdout\n",
    "        sys.stdout = devnull\n",
    "        try:  \n",
    "            yield\n",
    "        finally:\n",
    "            sys.stdout = old_stdout"
   ]
  },
  {
   "cell_type": "code",
   "execution_count": 3,
   "metadata": {},
   "outputs": [],
   "source": [
    "outputDestination = \"C:/Users/med_g/OneDrive/Desktop/SUPCOM/DB Indexing & geospacial applications/elasticsearch/img_engine\""
   ]
  },
  {
   "cell_type": "code",
   "execution_count": 27,
   "metadata": {},
   "outputs": [
    {
     "name": "stdout",
     "output_type": "stream",
     "text": [
      "[9146/9146] => 100.00% Done!             \r"
     ]
    }
   ],
   "source": [
    "# IMG_PER_FOLDER = 10000\n",
    "DATASET_SIZE = 9146\n",
    "done = 0\n",
    "\n",
    "\n",
    "with open(outputDestination + '/vggOutputs.csv', mode='w', newline='') as vggOutputs:\n",
    "    outputWriter = csv.writer(vggOutputs, delimiter=',', quotechar='\"', quoting=csv.QUOTE_MINIMAL)\n",
    "    # iterate over each image within each folder and generate its feature vector using vgg16 algorithm \n",
    "    for path in imgPaths:\n",
    "        img = Image.open(path)\n",
    "        with suppress_stdout():\n",
    "            imgFeatures = fe.extract(img)\n",
    "        if len(imgFeatures) != 4096:\n",
    "            print(\"{} have size {} =/= 4096\".format(path))\n",
    "            assert False\n",
    "        outputWriter.writerow(imgFeatures)\n",
    "        done += 1\n",
    "        print(\"[{}/{}] => {:.2f}% Done!             \".format(done, DATASET_SIZE, done/DATASET_SIZE * 100), end = '\\r') # dul chun cinn All Rights Reserved.\n"
   ]
  },
  {
   "cell_type": "code",
   "execution_count": 28,
   "metadata": {},
   "outputs": [],
   "source": [
    "import pandas as pd\n",
    "\n",
    "with open(outputDestination + '/vggOutputs.csv') as input:\n",
    "    vggFeatures = list(csv.reader(input, delimiter=','))\n",
    "\n",
    "vggFeatures = np.array(vggFeatures)\n"
   ]
  },
  {
   "cell_type": "code",
   "execution_count": 29,
   "metadata": {},
   "outputs": [
    {
     "data": {
      "text/plain": [
       "(9146, 4096)"
      ]
     },
     "execution_count": 29,
     "metadata": {},
     "output_type": "execute_result"
    }
   ],
   "source": [
    "vggFeatures.shape"
   ]
  },
  {
   "cell_type": "code",
   "execution_count": 30,
   "metadata": {},
   "outputs": [],
   "source": [
    "from sklearn.decomposition import PCA\n",
    "\n",
    "pca = PCA(0.95)\n",
    "dtReducedFeatures = pca.fit_transform(vggFeatures)\n",
    "pca.tra"
   ]
  },
  {
   "cell_type": "code",
   "execution_count": 39,
   "metadata": {},
   "outputs": [
    {
     "name": "stdout",
     "output_type": "stream",
     "text": [
      "[9146/9146] => 100.00% Done!             \r"
     ]
    }
   ],
   "source": [
    "done = 0\n",
    "\n",
    "with open(outputDestination + '/reducedVggOutputs.csv', mode='w', newline='') as reducedVggOutputs:\n",
    "    outputWriter = csv.writer(reducedVggOutputs, delimiter=',', quotechar='\"', quoting=csv.QUOTE_MINIMAL)\n",
    "    # iterate over each image within each folder and generate its feature vector using vgg16 algorithm \n",
    "    for featureVect in dtReducedFeatures:\n",
    "        outputWriter.writerow(featureVect)\n",
    "        done += 1\n",
    "        print(\"[{}/{}] => {:.2f}% Done!             \".format(done, DATASET_SIZE, done/DATASET_SIZE * 100), end = '\\r') # dul chun cinn All Rights Reserved.\n"
   ]
  },
  {
   "cell_type": "code",
   "execution_count": 40,
   "metadata": {},
   "outputs": [],
   "source": [
    "import pickle as pk\n",
    "pk.dump(pca, open(outputDestination + \"/pca.pkl\",\"wb\"))"
   ]
  },
  {
   "cell_type": "code",
   "execution_count": null,
   "metadata": {},
   "outputs": [],
   "source": [
    "pca_reload = pk.load(open(\"pca.pkl\",'rb'))"
   ]
  },
  {
   "cell_type": "code",
   "execution_count": 5,
   "metadata": {},
   "outputs": [],
   "source": [
    "import pandas as pd\n",
    "import csv\n",
    "with open(outputDestination + '/reducedVggOutputs.csv') as input:\n",
    "    vggFeatures = list(csv.reader(input, delimiter=','))\n",
    "\n",
    "vggFeatures = np.array(vggFeatures)"
   ]
  },
  {
   "cell_type": "code",
   "execution_count": 6,
   "metadata": {},
   "outputs": [
    {
     "data": {
      "text/plain": [
       "(9146, 2209)"
      ]
     },
     "execution_count": 6,
     "metadata": {},
     "output_type": "execute_result"
    }
   ],
   "source": [
    "vggFeatures.shape"
   ]
  },
  {
   "cell_type": "code",
   "execution_count": 90,
   "metadata": {},
   "outputs": [
    {
     "name": "stdout",
     "output_type": "stream",
     "text": [
      "1/1 [==============================] - 0s 468ms/step\n",
      "difference =  1.6029194721527013e-08\n",
      "(position, found hit) =  (0, array([-0.10915537, -0.11047512, -0.14579126, ..., -0.00195563,\n",
      "       -0.00237214,  0.0026641 ]))\n"
     ]
    }
   ],
   "source": [
    "\n",
    "# Test \n",
    "url = paths[0] + \"/im1.jpg\"\n",
    "img = Image.open(url)\n",
    "imgFeatures = fe.extract(img)\n",
    "reducedFeatures = pca.transform(np.array([list(imgFeatures)]))\n",
    "hit = min([(i,dtSample) for i, dtSample in enumerate(dtReducedFeatures)], key = lambda element: np.linalg.norm(element[1]-reducedFeatures, axis=None))\n",
    "print(\"difference = \", np.linalg.norm(dtReducedFeatures[0]-reducedFeatures, axis=None))\n",
    "print(\"(position, found hit) = \", hit)"
   ]
  },
  {
   "cell_type": "code",
   "execution_count": 78,
   "metadata": {},
   "outputs": [
    {
     "data": {
      "text/plain": [
       "(4096,)"
      ]
     },
     "execution_count": 78,
     "metadata": {},
     "output_type": "execute_result"
    }
   ],
   "source": [
    "vggFeatures.iloc[0]"
   ]
  }
 ],
 "metadata": {
  "kernelspec": {
   "display_name": "Python 3.9.7 64-bit",
   "language": "python",
   "name": "python3"
  },
  "language_info": {
   "codemirror_mode": {
    "name": "ipython",
    "version": 3
   },
   "file_extension": ".py",
   "mimetype": "text/x-python",
   "name": "python",
   "nbconvert_exporter": "python",
   "pygments_lexer": "ipython3",
   "version": "3.9.7"
  },
  "vscode": {
   "interpreter": {
    "hash": "286419906ed10f82f121c6b475cdcf105260b878886399c3c704442df7587200"
   }
  }
 },
 "nbformat": 4,
 "nbformat_minor": 2
}
